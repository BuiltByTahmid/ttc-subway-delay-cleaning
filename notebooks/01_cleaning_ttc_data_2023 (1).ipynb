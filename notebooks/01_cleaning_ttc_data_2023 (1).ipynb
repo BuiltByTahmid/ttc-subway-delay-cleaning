{
 "cells": [
  {
   "cell_type": "markdown",
   "id": "ab60f873-0a25-4516-bed0-820dc5ead696",
   "metadata": {},
   "source": [
    "# TTC Subway Delay Logs (2023) — Data-Cleaning Notebook\n",
    "\n",
    "**Goal:** transform the raw 2023 Excel file into an analysis-ready CSV/parquet file.\n",
    "\n",
    "Key cleaning tasks  \n",
    "1. Standardize column names  \n",
    "2. Parse `date` + `time` into a single `timestamp`  \n",
    "3. Normalize text fields (`station`, `line`, `bound`)  \n",
    "4. Ensure numeric columns are valid  \n",
    "5. Remove duplicates  \n",
    "6. Export cleaned dataset"
   ]
  },
  {
   "cell_type": "code",
   "execution_count": 4,
   "id": "80e6a912-6432-4f75-8409-06c38b7bf496",
   "metadata": {},
   "outputs": [
    {
     "data": {
      "text/html": [
       "<div>\n",
       "<style scoped>\n",
       "    .dataframe tbody tr th:only-of-type {\n",
       "        vertical-align: middle;\n",
       "    }\n",
       "\n",
       "    .dataframe tbody tr th {\n",
       "        vertical-align: top;\n",
       "    }\n",
       "\n",
       "    .dataframe thead th {\n",
       "        text-align: right;\n",
       "    }\n",
       "</style>\n",
       "<table border=\"1\" class=\"dataframe\">\n",
       "  <thead>\n",
       "    <tr style=\"text-align: right;\">\n",
       "      <th></th>\n",
       "      <th>Date</th>\n",
       "      <th>Time</th>\n",
       "      <th>Day</th>\n",
       "      <th>Station</th>\n",
       "      <th>Code</th>\n",
       "      <th>Min Delay</th>\n",
       "      <th>Min Gap</th>\n",
       "      <th>Bound</th>\n",
       "      <th>Line</th>\n",
       "      <th>Vehicle</th>\n",
       "    </tr>\n",
       "  </thead>\n",
       "  <tbody>\n",
       "    <tr>\n",
       "      <th>0</th>\n",
       "      <td>2023-01-01</td>\n",
       "      <td>02:22</td>\n",
       "      <td>Sunday</td>\n",
       "      <td>MUSEUM STATION</td>\n",
       "      <td>MUPAA</td>\n",
       "      <td>3</td>\n",
       "      <td>9</td>\n",
       "      <td>S</td>\n",
       "      <td>YU</td>\n",
       "      <td>5931</td>\n",
       "    </tr>\n",
       "    <tr>\n",
       "      <th>1</th>\n",
       "      <td>2023-01-01</td>\n",
       "      <td>02:30</td>\n",
       "      <td>Sunday</td>\n",
       "      <td>KIPLING STATION</td>\n",
       "      <td>MUIS</td>\n",
       "      <td>0</td>\n",
       "      <td>0</td>\n",
       "      <td>E</td>\n",
       "      <td>BD</td>\n",
       "      <td>5341</td>\n",
       "    </tr>\n",
       "    <tr>\n",
       "      <th>2</th>\n",
       "      <td>2023-01-01</td>\n",
       "      <td>02:33</td>\n",
       "      <td>Sunday</td>\n",
       "      <td>WARDEN STATION</td>\n",
       "      <td>SUO</td>\n",
       "      <td>0</td>\n",
       "      <td>0</td>\n",
       "      <td>W</td>\n",
       "      <td>BD</td>\n",
       "      <td>0</td>\n",
       "    </tr>\n",
       "    <tr>\n",
       "      <th>3</th>\n",
       "      <td>2023-01-01</td>\n",
       "      <td>03:17</td>\n",
       "      <td>Sunday</td>\n",
       "      <td>KEELE STATION</td>\n",
       "      <td>MUIS</td>\n",
       "      <td>0</td>\n",
       "      <td>0</td>\n",
       "      <td>NaN</td>\n",
       "      <td>BD</td>\n",
       "      <td>0</td>\n",
       "    </tr>\n",
       "    <tr>\n",
       "      <th>4</th>\n",
       "      <td>2023-01-01</td>\n",
       "      <td>07:16</td>\n",
       "      <td>Sunday</td>\n",
       "      <td>BATHURST STATION</td>\n",
       "      <td>MUIS</td>\n",
       "      <td>0</td>\n",
       "      <td>0</td>\n",
       "      <td>NaN</td>\n",
       "      <td>BD</td>\n",
       "      <td>0</td>\n",
       "    </tr>\n",
       "  </tbody>\n",
       "</table>\n",
       "</div>"
      ],
      "text/plain": [
       "        Date   Time     Day           Station   Code  Min Delay  Min Gap  \\\n",
       "0 2023-01-01  02:22  Sunday    MUSEUM STATION  MUPAA          3        9   \n",
       "1 2023-01-01  02:30  Sunday   KIPLING STATION   MUIS          0        0   \n",
       "2 2023-01-01  02:33  Sunday    WARDEN STATION    SUO          0        0   \n",
       "3 2023-01-01  03:17  Sunday     KEELE STATION   MUIS          0        0   \n",
       "4 2023-01-01  07:16  Sunday  BATHURST STATION   MUIS          0        0   \n",
       "\n",
       "  Bound Line  Vehicle  \n",
       "0     S   YU     5931  \n",
       "1     E   BD     5341  \n",
       "2     W   BD        0  \n",
       "3   NaN   BD        0  \n",
       "4   NaN   BD        0  "
      ]
     },
     "execution_count": 4,
     "metadata": {},
     "output_type": "execute_result"
    }
   ],
   "source": [
    "# 1. Load raw data\n",
    "import pandas as pd\n",
    "\n",
    "# Use absolute path so the cell works no matter where this notebook sits\n",
    "FILE_PATH = r\"D:\\Github\\TahmidBuilds\\ttc-subway-delay-cleaning\\data\\raw\\ttc-subway-delay-data-2023.xlsx\"\n",
    "\n",
    "df = pd.read_excel(FILE_PATH)\n",
    "df.head()\n"
   ]
  },
  {
   "cell_type": "markdown",
   "id": "e6f76600-4bd5-47e5-a54a-75525b3d4e5d",
   "metadata": {},
   "source": [
    "### 1️⃣  Standardize column names  \n",
    "We’ll strip whitespace, make them lowercase, and replace spaces with underscores so they’re Python-friendly.\n"
   ]
  },
  {
   "cell_type": "code",
   "execution_count": 5,
   "id": "125abf1f-2d63-4f71-9c0b-17a12f9c0664",
   "metadata": {},
   "outputs": [
    {
     "data": {
      "text/plain": [
       "Index(['date', 'time', 'day', 'station', 'code', 'min_delay', 'min_gap',\n",
       "       'bound', 'line', 'vehicle'],\n",
       "      dtype='object')"
      ]
     },
     "execution_count": 5,
     "metadata": {},
     "output_type": "execute_result"
    }
   ],
   "source": [
    "# 2. Clean column names\n",
    "df.columns = (\n",
    "    df.columns\n",
    "      .str.strip()        # remove leading/trailing spaces\n",
    "      .str.lower()        # lowercase\n",
    "      .str.replace(\" \", \"_\")\n",
    ")\n",
    "\n",
    "df.columns\n"
   ]
  },
  {
   "cell_type": "markdown",
   "id": "4b16baa8-793a-4bd7-bdd3-cfce0bd92296",
   "metadata": {},
   "source": [
    "### 2️⃣  Parse `date` and `time`, create full `timestamp`"
   ]
  },
  {
   "cell_type": "code",
   "execution_count": 6,
   "id": "67d1cc9c-3713-4197-828e-a471e90a64a8",
   "metadata": {},
   "outputs": [
    {
     "data": {
      "text/html": [
       "<div>\n",
       "<style scoped>\n",
       "    .dataframe tbody tr th:only-of-type {\n",
       "        vertical-align: middle;\n",
       "    }\n",
       "\n",
       "    .dataframe tbody tr th {\n",
       "        vertical-align: top;\n",
       "    }\n",
       "\n",
       "    .dataframe thead th {\n",
       "        text-align: right;\n",
       "    }\n",
       "</style>\n",
       "<table border=\"1\" class=\"dataframe\">\n",
       "  <thead>\n",
       "    <tr style=\"text-align: right;\">\n",
       "      <th></th>\n",
       "      <th>date</th>\n",
       "      <th>time</th>\n",
       "      <th>timestamp</th>\n",
       "    </tr>\n",
       "  </thead>\n",
       "  <tbody>\n",
       "    <tr>\n",
       "      <th>0</th>\n",
       "      <td>2023-01-01</td>\n",
       "      <td>02:22:00</td>\n",
       "      <td>2023-01-01 02:22:00</td>\n",
       "    </tr>\n",
       "    <tr>\n",
       "      <th>1</th>\n",
       "      <td>2023-01-01</td>\n",
       "      <td>02:30:00</td>\n",
       "      <td>2023-01-01 02:30:00</td>\n",
       "    </tr>\n",
       "    <tr>\n",
       "      <th>2</th>\n",
       "      <td>2023-01-01</td>\n",
       "      <td>02:33:00</td>\n",
       "      <td>2023-01-01 02:33:00</td>\n",
       "    </tr>\n",
       "    <tr>\n",
       "      <th>3</th>\n",
       "      <td>2023-01-01</td>\n",
       "      <td>03:17:00</td>\n",
       "      <td>2023-01-01 03:17:00</td>\n",
       "    </tr>\n",
       "    <tr>\n",
       "      <th>4</th>\n",
       "      <td>2023-01-01</td>\n",
       "      <td>07:16:00</td>\n",
       "      <td>2023-01-01 07:16:00</td>\n",
       "    </tr>\n",
       "  </tbody>\n",
       "</table>\n",
       "</div>"
      ],
      "text/plain": [
       "        date      time           timestamp\n",
       "0 2023-01-01  02:22:00 2023-01-01 02:22:00\n",
       "1 2023-01-01  02:30:00 2023-01-01 02:30:00\n",
       "2 2023-01-01  02:33:00 2023-01-01 02:33:00\n",
       "3 2023-01-01  03:17:00 2023-01-01 03:17:00\n",
       "4 2023-01-01  07:16:00 2023-01-01 07:16:00"
      ]
     },
     "execution_count": 6,
     "metadata": {},
     "output_type": "execute_result"
    }
   ],
   "source": [
    "# Parse dates & times, then combine\n",
    "df[\"date\"] = pd.to_datetime(df[\"date\"], errors=\"coerce\")  # coerce invalid strings to NaT\n",
    "df[\"time\"] = pd.to_datetime(df[\"time\"], format=\"%H:%M\", errors=\"coerce\").dt.time\n",
    "\n",
    "# Combine into single column for easy filtering & de-duplication later\n",
    "df[\"timestamp\"] = pd.to_datetime(df[\"date\"].astype(str) + \" \" + df[\"time\"].astype(str))\n",
    "\n",
    "df[[\"date\", \"time\", \"timestamp\"]].head()"
   ]
  },
  {
   "cell_type": "markdown",
   "id": "bc316bfa-eda7-4260-b61d-205163267203",
   "metadata": {},
   "source": [
    "### 3️⃣  Normalize text fields (`station`, `line`, `bound`)"
   ]
  },
  {
   "cell_type": "code",
   "execution_count": 7,
   "id": "f5c7a108-6acd-4f47-9c9d-78ae8d36aaff",
   "metadata": {},
   "outputs": [
    {
     "data": {
      "text/html": [
       "<div>\n",
       "<style scoped>\n",
       "    .dataframe tbody tr th:only-of-type {\n",
       "        vertical-align: middle;\n",
       "    }\n",
       "\n",
       "    .dataframe tbody tr th {\n",
       "        vertical-align: top;\n",
       "    }\n",
       "\n",
       "    .dataframe thead th {\n",
       "        text-align: right;\n",
       "    }\n",
       "</style>\n",
       "<table border=\"1\" class=\"dataframe\">\n",
       "  <thead>\n",
       "    <tr style=\"text-align: right;\">\n",
       "      <th></th>\n",
       "      <th>station</th>\n",
       "      <th>line</th>\n",
       "      <th>bound</th>\n",
       "    </tr>\n",
       "  </thead>\n",
       "  <tbody>\n",
       "    <tr>\n",
       "      <th>0</th>\n",
       "      <td>Museum Station</td>\n",
       "      <td>YU</td>\n",
       "      <td>S</td>\n",
       "    </tr>\n",
       "    <tr>\n",
       "      <th>1</th>\n",
       "      <td>Kipling Station</td>\n",
       "      <td>BD</td>\n",
       "      <td>E</td>\n",
       "    </tr>\n",
       "    <tr>\n",
       "      <th>2</th>\n",
       "      <td>Warden Station</td>\n",
       "      <td>BD</td>\n",
       "      <td>W</td>\n",
       "    </tr>\n",
       "    <tr>\n",
       "      <th>3</th>\n",
       "      <td>Keele Station</td>\n",
       "      <td>BD</td>\n",
       "      <td>NaN</td>\n",
       "    </tr>\n",
       "    <tr>\n",
       "      <th>4</th>\n",
       "      <td>Bathurst Station</td>\n",
       "      <td>BD</td>\n",
       "      <td>NaN</td>\n",
       "    </tr>\n",
       "  </tbody>\n",
       "</table>\n",
       "</div>"
      ],
      "text/plain": [
       "            station line bound\n",
       "0    Museum Station   YU     S\n",
       "1   Kipling Station   BD     E\n",
       "2    Warden Station   BD     W\n",
       "3     Keele Station   BD   NaN\n",
       "4  Bathurst Station   BD   NaN"
      ]
     },
     "execution_count": 7,
     "metadata": {},
     "output_type": "execute_result"
    }
   ],
   "source": [
    "# 4. Tidy up text columns\n",
    "df[\"station\"] = df[\"station\"].str.strip().str.title()   # \"MUSEUM STATION\" → \"Museum Station\"\n",
    "df[\"line\"]    = df[\"line\"].str.strip().str.upper()      # ensure YU / BD etc.\n",
    "df[\"bound\"]   = df[\"bound\"].str.strip().str.upper()     # N / S / E / W\n",
    "\n",
    "df[[\"station\", \"line\", \"bound\"]].head()\n"
   ]
  },
  {
   "cell_type": "markdown",
   "id": "572b6c41-f8e5-4748-aa48-89ac1aa00d38",
   "metadata": {},
   "source": [
    "### 4️⃣  Ensure numeric columns are valid"
   ]
  },
  {
   "cell_type": "code",
   "execution_count": 8,
   "id": "cb156dfc-f47b-418f-8dba-ef5e208a287d",
   "metadata": {},
   "outputs": [
    {
     "data": {
      "text/html": [
       "<div>\n",
       "<style scoped>\n",
       "    .dataframe tbody tr th:only-of-type {\n",
       "        vertical-align: middle;\n",
       "    }\n",
       "\n",
       "    .dataframe tbody tr th {\n",
       "        vertical-align: top;\n",
       "    }\n",
       "\n",
       "    .dataframe thead th {\n",
       "        text-align: right;\n",
       "    }\n",
       "</style>\n",
       "<table border=\"1\" class=\"dataframe\">\n",
       "  <thead>\n",
       "    <tr style=\"text-align: right;\">\n",
       "      <th></th>\n",
       "      <th>min_delay</th>\n",
       "      <th>min_gap</th>\n",
       "    </tr>\n",
       "  </thead>\n",
       "  <tbody>\n",
       "    <tr>\n",
       "      <th>count</th>\n",
       "      <td>22949.000000</td>\n",
       "      <td>22949.000000</td>\n",
       "    </tr>\n",
       "    <tr>\n",
       "      <th>mean</th>\n",
       "      <td>2.970892</td>\n",
       "      <td>4.370387</td>\n",
       "    </tr>\n",
       "    <tr>\n",
       "      <th>std</th>\n",
       "      <td>9.295641</td>\n",
       "      <td>10.353832</td>\n",
       "    </tr>\n",
       "    <tr>\n",
       "      <th>min</th>\n",
       "      <td>0.000000</td>\n",
       "      <td>0.000000</td>\n",
       "    </tr>\n",
       "    <tr>\n",
       "      <th>25%</th>\n",
       "      <td>0.000000</td>\n",
       "      <td>0.000000</td>\n",
       "    </tr>\n",
       "    <tr>\n",
       "      <th>50%</th>\n",
       "      <td>0.000000</td>\n",
       "      <td>0.000000</td>\n",
       "    </tr>\n",
       "    <tr>\n",
       "      <th>75%</th>\n",
       "      <td>4.000000</td>\n",
       "      <td>8.000000</td>\n",
       "    </tr>\n",
       "    <tr>\n",
       "      <th>max</th>\n",
       "      <td>423.000000</td>\n",
       "      <td>428.000000</td>\n",
       "    </tr>\n",
       "  </tbody>\n",
       "</table>\n",
       "</div>"
      ],
      "text/plain": [
       "          min_delay       min_gap\n",
       "count  22949.000000  22949.000000\n",
       "mean       2.970892      4.370387\n",
       "std        9.295641     10.353832\n",
       "min        0.000000      0.000000\n",
       "25%        0.000000      0.000000\n",
       "50%        0.000000      0.000000\n",
       "75%        4.000000      8.000000\n",
       "max      423.000000    428.000000"
      ]
     },
     "execution_count": 8,
     "metadata": {},
     "output_type": "execute_result"
    }
   ],
   "source": [
    "numeric_cols = [\"min_delay\", \"min_gap\"]\n",
    "\n",
    "for col in numeric_cols:\n",
    "    df[col] = pd.to_numeric(df[col], errors=\"coerce\")   # strings → NaN\n",
    "    # Replace negative values (shouldn't exist) with NA\n",
    "    df.loc[df[col] < 0, col] = pd.NA\n",
    "\n",
    "df[numeric_cols].describe()\n"
   ]
  },
  {
   "cell_type": "markdown",
   "id": "f1706225-782e-4076-9839-7b21e925fc5b",
   "metadata": {},
   "source": [
    "### 5️⃣  Drop duplicate delay records  \n",
    "We consider a duplicate as having the **same timestamp, station, and code**.\n"
   ]
  },
  {
   "cell_type": "code",
   "execution_count": 9,
   "id": "d5c5a731-c914-417b-bd37-94ed2b28bc35",
   "metadata": {},
   "outputs": [
    {
     "name": "stdout",
     "output_type": "stream",
     "text": [
      "Rows before: 22,949  |  after removing duplicates: 22,926\n"
     ]
    }
   ],
   "source": [
    "before = len(df)\n",
    "df = df.drop_duplicates(subset=[\"timestamp\", \"station\", \"code\"])\n",
    "after = len(df)\n",
    "\n",
    "print(f\"Rows before: {before:,}  |  after removing duplicates: {after:,}\")\n"
   ]
  },
  {
   "cell_type": "markdown",
   "id": "d025fe8c-5a86-41d3-81ef-1e71fd2885a6",
   "metadata": {},
   "source": [
    "## ✅ Cleaning Summary  \n",
    "\n",
    "| Step | Action | Result |\n",
    "|------|--------|--------|\n",
    "| 1 | Column names standardized | Easy referencing in code |\n",
    "| 2 | Combined `date` + `time` → `timestamp` | Simplified time-series ops |\n",
    "| 3 | Text fields normalized | Consistent casing/spaces |\n",
    "| 4 | Numeric validation | No negative or non-numeric delays |\n",
    "| 5 | Duplicate removal | {{before-after counts above}} rows deleted |\n",
    "| 6 | Export | CSV + Parquet saved in `data/clean/` |"
   ]
  },
  {
   "cell_type": "code",
   "execution_count": 11,
   "id": "34a9839d-8b1b-473f-b340-46d2954d0d9d",
   "metadata": {},
   "outputs": [
    {
     "name": "stdout",
     "output_type": "stream",
     "text": [
      "bound        8507\n",
      "line           48\n",
      "date            0\n",
      "time            0\n",
      "day             0\n",
      "station         0\n",
      "code            0\n",
      "min_delay       0\n",
      "min_gap         0\n",
      "vehicle         0\n",
      "timestamp       0\n",
      "dtype: int64\n"
     ]
    }
   ],
   "source": [
    "\n",
    "# 1. Quick null summary\n",
    "nulls = df.isna().sum().sort_values(ascending=False)\n",
    "print(nulls)\n",
    "\n",
    "# 2. Replace missing text fields with 'Unknown' for grouping visuals\n",
    "text_cols = [\"bound\", \"line\", \"vehicle\"]\n",
    "df[text_cols] = df[text_cols].fillna(\"Unknown\")\n",
    "\n",
    "# 3. Decide whether to keep or drop 0-minute rows\n",
    "nonzero = df[df[\"min_delay\"] > 0]      # for duration analyses"
   ]
  },
  {
   "cell_type": "code",
   "execution_count": null,
   "id": "d9d81233-2f82-41af-95a7-15d02e7eec83",
   "metadata": {},
   "outputs": [],
   "source": []
  }
 ],
 "metadata": {
  "kernelspec": {
   "display_name": "Python 3 (ipykernel)",
   "language": "python",
   "name": "python3"
  },
  "language_info": {
   "codemirror_mode": {
    "name": "ipython",
    "version": 3
   },
   "file_extension": ".py",
   "mimetype": "text/x-python",
   "name": "python",
   "nbconvert_exporter": "python",
   "pygments_lexer": "ipython3",
   "version": "3.12.7"
  }
 },
 "nbformat": 4,
 "nbformat_minor": 5
}
